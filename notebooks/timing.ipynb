{
 "cells": [
  {
   "cell_type": "markdown",
   "id": "510cac07",
   "metadata": {},
   "source": [
    "# NanoEventsFactory example\n",
    "\n",
    "Load a single local root file and play with the events.\n"
   ]
  },
  {
   "cell_type": "code",
   "execution_count": 1,
   "id": "165a1e6d",
   "metadata": {},
   "outputs": [],
   "source": [
    "import warnings\n",
    "warnings.filterwarnings(\"ignore\")"
   ]
  },
  {
   "cell_type": "code",
   "execution_count": 2,
   "id": "a7437963",
   "metadata": {},
   "outputs": [],
   "source": [
    "import numpy as np\n",
    "\n",
    "from coffea.nanoevents import NanoEventsFactory, BaseSchema"
   ]
  },
  {
   "cell_type": "code",
   "execution_count": 3,
   "id": "0a0efbef",
   "metadata": {},
   "outputs": [],
   "source": [
    "events = NanoEventsFactory.from_root(\n",
    "    #'/home/users/dspitzba/timing/CMSSW_11_3_1_patch1/src/Phase2Timing/ntuple_phase2timing_H_XX_4b.root',\n",
    "    #'/home/users/dspitzba/timing/CMSSW_11_3_1_patch1/src/Phase2Timing/ntuple_phase2timing.root',\n",
    "    '/home/users/hswanson13/CMSSW_11_3_1_patch1/src/Phase2Timing/Phase2TimingAnalyzer/python/ntuple_phase2timing.root',\n",
    "    schemaclass = BaseSchema,\n",
    "    treepath='demo/tree',\n",
    "    entry_stop = 1000).events()"
   ]
  },
  {
   "cell_type": "code",
   "execution_count": 4,
   "id": "65f0240d",
   "metadata": {},
   "outputs": [
    {
     "data": {
      "text/plain": [
       "<Array [27.8, 17.3, 47.5, 26.4] type='4 * float32[parameters={\"__doc__\": \"e_pt\"}]'>"
      ]
     },
     "execution_count": 4,
     "metadata": {},
     "output_type": "execute_result"
    }
   ],
   "source": [
    "events['e_pt'][0]"
   ]
  },
  {
   "cell_type": "code",
   "execution_count": 5,
   "id": "5b056127",
   "metadata": {},
   "outputs": [],
   "source": [
    "import matplotlib.pyplot as plt\n",
    "import mplhep as hep\n",
    "plt.style.use(hep.style.CMS)\n",
    "\n",
    "import awkward as ak"
   ]
  },
  {
   "cell_type": "code",
   "execution_count": 6,
   "id": "7dbceed0",
   "metadata": {},
   "outputs": [],
   "source": [
    "import boost_histogram as bh"
   ]
  },
  {
   "cell_type": "code",
   "execution_count": 7,
   "id": "68cd8388",
   "metadata": {},
   "outputs": [
    {
     "data": {
      "text/plain": [
       "array([-0.5,  0.5,  1.5,  2.5,  3.5,  4.5])"
      ]
     },
     "execution_count": 7,
     "metadata": {},
     "output_type": "execute_result"
    }
   ],
   "source": [
    "binning = np.array([-0.5, 0.5, 1.5, 2.5, 3.5, 4.5])\n",
    "binning"
   ]
  },
  {
   "cell_type": "code",
   "execution_count": 8,
   "id": "9ce0ba60",
   "metadata": {},
   "outputs": [
    {
     "data": {
      "text/plain": [
       "Histogram(Variable([-0.5, 0.5, 1.5, 2.5, 3.5, 4.5]), storage=Weight()) # Sum: WeightedSum(value=200, variance=200)"
      ]
     },
     "execution_count": 8,
     "metadata": {},
     "output_type": "execute_result"
    }
   ],
   "source": [
    "n_q = bh.Histogram(bh.axis.Variable(binning), storage=bh.storage.Weight())\n",
    "n_q.fill(\n",
    "    ak.num(events['e_pt'], axis=1),\n",
    "    #weight=np.ones_like(ak.max(events['q_pt'], axis=1)),\n",
    ")"
   ]
  },
  {
   "cell_type": "code",
   "execution_count": 10,
   "id": "37f67faa",
   "metadata": {},
   "outputs": [
    {
     "data": {
      "text/plain": [
       "<matplotlib.legend.Legend at 0x7f4f9a84bca0>"
      ]
     },
     "execution_count": 10,
     "metadata": {},
     "output_type": "execute_result"
    },
    {
     "data": {
      "image/png": "[encoded data removed]",
      "text/plain": [
       "<Figure size 576x576 with 1 Axes>"
      ]
     },
     "metadata": {
      "needs_background": "light"
     },
     "output_type": "display_data"
    }
   ],
   "source": [
    "f, ax = plt.subplots(figsize=(8, 8))\n",
    "\n",
    "hep.histplot(\n",
    "    [n_q.counts()],\n",
    "    binning,\n",
    "    histtype=\"step\",\n",
    "    stack=False,\n",
    "    label=[r'central'],\n",
    "    color=['blue'],\n",
    "    ax=ax,\n",
    "    )\n",
    "\n",
    "hep.cms.label(\n",
    "    \"Preliminary\",\n",
    "    data=False,\n",
    "    lumi='X',\n",
    "    com=14,\n",
    "    loc=0,\n",
    "    ax=ax,\n",
    "    fontsize=15,\n",
    ")\n",
    "\n",
    "ax.set_ylabel(r'a.u.')\n",
    "ax.set_xlabel(r'$p_{T}\\ (GeV)$')\n",
    "\n",
    "plt.legend()"
   ]
  },
  {
   "cell_type": "code",
   "execution_count": 37,
   "id": "a5120105",
   "metadata": {},
   "outputs": [
    {
     "data": {
      "text/plain": [
       "Histogram(Variable([0, 10, 20, 30, 40, 50, 60, 70, 80, 90, 100]), storage=Weight()) # Sum: WeightedSum(value=190, variance=190) (WeightedSum(value=200, variance=200) with flow)"
      ]
     },
     "execution_count": 37,
     "metadata": {},
     "output_type": "execute_result"
    }
   ],
   "source": [
    "binning = np.linspace(0,100,11)\n",
    "\n",
    "lead_q_pt = bh.Histogram(bh.axis.Variable(binning), storage=bh.storage.Weight())\n",
    "lead_q_pt.fill(\n",
    "    ak.fill_none(ak.max(events['q_pt'], axis=1), -99),\n",
    "    #weight=np.ones_like(ak.max(events['q_pt'], axis=1)),\n",
    ")\n",
    "\n",
    "trail_q_pt = bh.Histogram(bh.axis.Variable(binning), storage=bh.storage.Weight())\n",
    "trail_q_pt.fill(\n",
    "    ak.fill_none(ak.min(events['q_pt'], axis=1), -99),\n",
    "    #weight=np.ones_like(ak.max(events['q_pt'], axis=1)),\n",
    ")"
   ]
  },
  {
   "cell_type": "code",
   "execution_count": 38,
   "id": "f895b065",
   "metadata": {},
   "outputs": [
    {
     "data": {
      "text/plain": [
       "<matplotlib.legend.Legend at 0x7fe43908eb50>"
      ]
     },
     "execution_count": 38,
     "metadata": {},
     "output_type": "execute_result"
    },
    {
     "data": {
      "image/png": "[encoded data removed]",
      "text/plain": [
       "<Figure size 576x576 with 1 Axes>"
      ]
     },
     "metadata": {
      "needs_background": "light"
     },
     "output_type": "display_data"
    }
   ],
   "source": [
    "f, ax = plt.subplots(figsize=(8, 8))\n",
    "\n",
    "hep.histplot(\n",
    "    [lead_q_pt.counts(), trail_q_pt.counts()],\n",
    "    binning,\n",
    "    histtype=\"step\",\n",
    "    stack=False,\n",
    "    label=[r'lead', r'trail'],\n",
    "    color=['blue', 'red'],\n",
    "    ax=ax,\n",
    "    )\n",
    "\n",
    "hep.cms.label(\n",
    "    \"Preliminary\",\n",
    "    data=False,\n",
    "    lumi='X',\n",
    "    com=14,\n",
    "    loc=0,\n",
    "    ax=ax,\n",
    "    fontsize=15,\n",
    ")\n",
    "\n",
    "ax.set_ylabel(r'a.u.')\n",
    "ax.set_xlabel(r'$p_{T}\\ (GeV)$')\n",
    "\n",
    "plt.legend()"
   ]
  },
  {
   "cell_type": "code",
   "execution_count": 9,
   "id": "bcd84cfb",
   "metadata": {},
   "outputs": [],
   "source": [
    "def get_four_vec_fromPtEtaPhiM(cand, pt, eta, phi, M, copy=True):\n",
    "    '''\n",
    "    Get a LorentzVector from a NanoAOD candidate with custom pt, eta, phi and mass\n",
    "    All other properties are copied over from the original candidate\n",
    "    '''\n",
    "    from coffea.nanoevents.methods import vector\n",
    "    ak.behavior.update(vector.behavior)\n",
    "\n",
    "    vec4 = ak.zip(\n",
    "        {\n",
    "            \"pt\": pt,\n",
    "            \"eta\": eta,\n",
    "            \"phi\": phi,\n",
    "            \"mass\": M,\n",
    "        },\n",
    "        with_name=\"PtEtaPhiMLorentzVector\",\n",
    "    )\n",
    "    if copy:\n",
    "        vec4.__dict__.update(cand.__dict__)\n",
    "    return vec4"
   ]
  },
  {
   "cell_type": "code",
   "execution_count": 59,
   "id": "cb3fa8f5",
   "metadata": {},
   "outputs": [],
   "source": [
    "def choose(first, n=2):\n",
    "    tmp = ak.combinations(first, n)\n",
    "    combs = tmp['0']\n",
    "    for i in range(1,n):\n",
    "        combs = combs.__add__(tmp[str(i)])\n",
    "    for i in range(n):\n",
    "        combs[str(i)] = tmp[str(i)]\n",
    "    return combs"
   ]
  },
  {
   "cell_type": "code",
   "execution_count": 60,
   "id": "a32d3186",
   "metadata": {},
   "outputs": [],
   "source": [
    "def cross(first, second):\n",
    "    tmp = ak.cartesian([first, second])\n",
    "    combs = (tmp['0'] + tmp['1'])\n",
    "    combs['0'] = tmp['0']\n",
    "    combs['1'] = tmp['1']\n",
    "    return combs"
   ]
  },
  {
   "cell_type": "code",
   "execution_count": 61,
   "id": "12fe80c2",
   "metadata": {},
   "outputs": [],
   "source": [
    "def delta_phi(first, second):\n",
    "    return np.arccos(np.cos(first.phi - second.phi))\n",
    "\n",
    "def delta_r2(first, second):\n",
    "    return (first.eta - second.eta) ** 2 + delta_phi(first, second) ** 2\n",
    "    \n",
    "def delta_r(first, second):\n",
    "    return np.sqrt(delta_r2(first, second))\n",
    "\n",
    "def match(first, second, deltaRCut=0.4):\n",
    "    drCut2 = deltaRCut**2\n",
    "    combs = ak.cartesian([first, second], nested=True)\n",
    "    return ak.any((delta_r2(combs['0'], combs['1'])<drCut2), axis=2)"
   ]
  },
  {
   "cell_type": "code",
   "execution_count": 62,
   "id": "40aa41b5",
   "metadata": {},
   "outputs": [],
   "source": [
    "gen_ele = get_four_vec_fromPtEtaPhiM(None, events['e_pt'], events['e_eta'], events['e_phi'], ak.zeros_like(events['e_phi']), copy=False)\n",
    "#Q['p4'] = Q"
   ]
  },
  {
   "cell_type": "code",
   "execution_count": 63,
   "id": "653e536f",
   "metadata": {},
   "outputs": [],
   "source": [
    "reco_track = get_four_vec_fromPtEtaPhiM(None, events['track_pt'], events['track_eta'], events['track_phi'], ak.zeros_like(events['track_phi']), copy=False)"
   ]
  },
  {
   "cell_type": "code",
   "execution_count": 69,
   "id": "3d13cc31",
   "metadata": {},
   "outputs": [
    {
     "data": {
      "text/plain": [
       "<LorentzVectorArray [[{x: -3.52, y: 11.3, ... mass: 0}}]] type='200 * var * Lore...'>"
      ]
     },
     "execution_count": 69,
     "metadata": {},
     "output_type": "execute_result"
    }
   ],
   "source": [
    "dielectron = choose(gen_ele, n=2)\n",
    "dielectron"
   ]
  },
  {
   "cell_type": "code",
   "execution_count": 65,
   "id": "6f42ba98",
   "metadata": {},
   "outputs": [
    {
     "data": {
      "text/plain": [
       "<LorentzVectorArray [[{x: 3.31, y: 28.9, ... mass: 0}}]] type='200 * var * Loren...'>"
      ]
     },
     "execution_count": 65,
     "metadata": {},
     "output_type": "execute_result"
    }
   ],
   "source": [
    "track_ele = cross(gen_ele, reco_track)\n",
    "track_ele"
   ]
  },
  {
   "cell_type": "code",
   "execution_count": 66,
   "id": "6879ef86",
   "metadata": {},
   "outputs": [],
   "source": [
    "matched_track = match(reco_track, gen_ele, deltaRCut=0.2)"
   ]
  },
  {
   "cell_type": "code",
   "execution_count": 44,
   "id": "dfaff629",
   "metadata": {},
   "outputs": [
    {
     "data": {
      "text/plain": [
       "<Array [0, 2, 2, 1, 1, 6, ... 0, 1, 2, 1, 0, 2] type='200 * int64'>"
      ]
     },
     "execution_count": 44,
     "metadata": {},
     "output_type": "execute_result"
    }
   ],
   "source": [
    "ak.num(reco_track[matched_track], axis=1)"
   ]
  },
  {
   "cell_type": "code",
   "execution_count": 45,
   "id": "c82cf873",
   "metadata": {},
   "outputs": [
    {
     "data": {
      "text/plain": [
       "<Array [[], [1.97, 0.895, ... [0.681, 1.04]] type='200 * var * float32[parameter...'>"
      ]
     },
     "execution_count": 45,
     "metadata": {},
     "output_type": "execute_result"
    }
   ],
   "source": [
    "reco_track[matched_track].pt"
   ]
  },
  {
   "cell_type": "code",
   "execution_count": 46,
   "id": "a8d4ccfa",
   "metadata": {},
   "outputs": [
    {
     "data": {
      "text/plain": [
       "<Array [27.8, 17.3, 47.5, 26.4] type='4 * float32[parameters={\"__doc__\": \"e_pt\"}]'>"
      ]
     },
     "execution_count": 46,
     "metadata": {},
     "output_type": "execute_result"
    }
   ],
   "source": [
    "gen_ele.pt[0]"
   ]
  },
  {
   "cell_type": "code",
   "execution_count": 50,
   "id": "1cf382ed",
   "metadata": {},
   "outputs": [
    {
     "data": {
      "text/plain": [
       "<Array [[0.767, 0.545, 0.822, ... 1.35, 2.58]] type='200 * var * float32'>"
      ]
     },
     "execution_count": 50,
     "metadata": {},
     "output_type": "execute_result"
    }
   ],
   "source": [
    "delta_r(track_ele['0'], track_ele['1'])"
   ]
  },
  {
   "cell_type": "code",
   "execution_count": 70,
   "id": "317db07d",
   "metadata": {},
   "outputs": [
    {
     "data": {
      "text/plain": [
       "<matplotlib.legend.Legend at 0x7f9c82227430>"
      ]
     },
     "execution_count": 70,
     "metadata": {},
     "output_type": "execute_result"
    },
    {
     "data": {
      "image/png": "[encoded data removed]",
      "text/plain": [
       "<Figure size 576x576 with 1 Axes>"
      ]
     },
     "metadata": {
      "needs_background": "light"
     },
     "output_type": "display_data"
    }
   ],
   "source": [
    "f, ax = plt.subplots(figsize=(8, 8))\n",
    "\n",
    "binning = np.linspace(0,7,20)\n",
    "\n",
    "delta_r_hist = bh.Histogram(bh.axis.Variable(binning), storage=bh.storage.Weight())\n",
    "delta_r_hist.fill(ak.flatten(delta_r(dielectron['0'], dielectron['1']), axis=1))\n",
    "\n",
    "hep.histplot(\n",
    "    [delta_r_hist.counts()],\n",
    "    binning,\n",
    "    histtype=\"step\",\n",
    "    stack=False,\n",
    "    label=[r'lead'],\n",
    "    color=['blue'],\n",
    "    ax=ax,\n",
    "    )\n",
    "\n",
    "hep.cms.label(\n",
    "    \"Preliminary\",\n",
    "    data=False,\n",
    "    lumi='X',\n",
    "    com=14,\n",
    "    loc=0,\n",
    "    ax=ax,\n",
    "    fontsize=15,\n",
    ")\n",
    "\n",
    "ax.set_ylabel(r'a.u.')\n",
    "ax.set_xlabel(r'$p_{T}\\ (GeV)$')\n",
    "\n",
    "plt.legend()"
   ]
  },
  {
   "cell_type": "code",
   "execution_count": 52,
   "id": "8746b243",
   "metadata": {},
   "outputs": [
    {
     "data": {
      "text/plain": [
       "<Array [0.767, 0.545, 0.822, ... 1.35, 2.58] type='87184 * float32'>"
      ]
     },
     "execution_count": 52,
     "metadata": {},
     "output_type": "execute_result"
    }
   ],
   "source": [
    "ak.flatten(delta_r(track_ele['0'], track_ele['1']), axis=1)"
   ]
  },
  {
   "cell_type": "code",
   "execution_count": null,
   "id": "6e325bd5",
   "metadata": {},
   "outputs": [],
   "source": []
  }
 ],
 "metadata": {
  "kernelspec": {
   "display_name": "timing",
   "language": "python",
   "name": "timing"
  },
  "language_info": {
   "codemirror_mode": {
    "name": "ipython",
    "version": 3
   },
   "file_extension": ".py",
   "mimetype": "text/x-python",
   "name": "python",
   "nbconvert_exporter": "python",
   "pygments_lexer": "ipython3",
   "version": "3.9.7"
  }
 },
 "nbformat": 4,
 "nbformat_minor": 5
}
