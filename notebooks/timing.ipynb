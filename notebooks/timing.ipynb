{
 "cells": [
  {
   "cell_type": "markdown",
   "id": "510cac07",
   "metadata": {},
   "source": [
    "# NanoEventsFactory example\n",
    "\n",
    "Load a single local root file and play with the events.\n"
   ]
  },
  {
   "cell_type": "code",
   "execution_count": 1,
   "id": "165a1e6d",
   "metadata": {},
   "outputs": [],
   "source": [
    "import warnings\n",
    "warnings.filterwarnings(\"ignore\")"
   ]
  },
  {
   "cell_type": "code",
   "execution_count": 2,
   "id": "a7437963",
   "metadata": {},
   "outputs": [],
   "source": [
    "import numpy as np\n",
    "\n",
    "from coffea.nanoevents import NanoEventsFactory, BaseSchema"
   ]
  },
  {
   "cell_type": "code",
   "execution_count": 3,
   "id": "0a0efbef",
   "metadata": {},
   "outputs": [],
   "source": [
    "events = NanoEventsFactory.from_root(\n",
    "    '/home/users/dspitzba/timing/CMSSW_11_3_1_patch1/src/Phase2Timing/ntuple_phase2timing_H_XX_4b.root',\n",
    "    schemaclass = BaseSchema,\n",
    "    treepath='demo/tree',\n",
    "    entry_stop = 1000).events()"
   ]
  },
  {
   "cell_type": "code",
   "execution_count": 4,
   "id": "65f0240d",
   "metadata": {},
   "outputs": [
    {
     "data": {
      "text/plain": [
       "<Array [81.2, 39.4, 10.2, 46.8] type='4 * float32[parameters={\"__doc__\": \"q_pt\"}]'>"
      ]
     },
     "execution_count": 4,
     "metadata": {},
     "output_type": "execute_result"
    }
   ],
   "source": [
    "events['q_pt'][0]"
   ]
  },
  {
   "cell_type": "code",
   "execution_count": 5,
   "id": "5b056127",
   "metadata": {},
   "outputs": [],
   "source": [
    "import matplotlib.pyplot as plt\n",
    "import mplhep as hep\n",
    "plt.style.use(hep.style.CMS)\n",
    "\n",
    "import awkward as ak"
   ]
  },
  {
   "cell_type": "code",
   "execution_count": 6,
   "id": "7dbceed0",
   "metadata": {},
   "outputs": [],
   "source": [
    "import boost_histogram as bh"
   ]
  },
  {
   "cell_type": "code",
   "execution_count": 7,
   "id": "a5120105",
   "metadata": {},
   "outputs": [
    {
     "data": {
      "text/plain": [
       "Histogram(Variable([0, 10, 20, 30, 40, 50, 60, 70, 80, 90, 100]), storage=Weight()) # Sum: WeightedSum(value=200, variance=200)"
      ]
     },
     "execution_count": 7,
     "metadata": {},
     "output_type": "execute_result"
    }
   ],
   "source": [
    "binning = np.linspace(0,100,11)\n",
    "\n",
    "lead_q_pt = bh.Histogram(bh.axis.Variable(binning), storage=bh.storage.Weight())\n",
    "lead_q_pt.fill(\n",
    "    ak.max(events['q_pt'], axis=1),\n",
    "    weight=np.ones_like(ak.max(events['q_pt'], axis=1)),\n",
    ")\n",
    "\n",
    "trail_q_pt = bh.Histogram(bh.axis.Variable(binning), storage=bh.storage.Weight())\n",
    "trail_q_pt.fill(\n",
    "    ak.min(events['q_pt'], axis=1),\n",
    "    weight=np.ones_like(ak.max(events['q_pt'], axis=1)),\n",
    ")"
   ]
  },
  {
   "cell_type": "code",
   "execution_count": 15,
   "id": "f895b065",
   "metadata": {},
   "outputs": [
    {
     "data": {
      "text/plain": [
       "<matplotlib.legend.Legend at 0x7ff6f1723520>"
      ]
     },
     "execution_count": 15,
     "metadata": {},
     "output_type": "execute_result"
    },
    {
     "data": {
      "image/png": "[encoded data removed]",
      "text/plain": [
       "<Figure size 576x576 with 1 Axes>"
      ]
     },
     "metadata": {
      "needs_background": "light"
     },
     "output_type": "display_data"
    }
   ],
   "source": [
    "f, ax = plt.subplots(figsize=(8, 8))\n",
    "\n",
    "hep.histplot(\n",
    "    [lead_q_pt.counts(), trail_q_pt.counts()],\n",
    "    binning,\n",
    "    histtype=\"step\",\n",
    "    stack=False,\n",
    "    label=[r'lead', r'trail'],\n",
    "    color=['blue', 'red'],\n",
    "    ax=ax,\n",
    "    )\n",
    "\n",
    "hep.cms.label(\n",
    "    \"Preliminary\",\n",
    "    data=False,\n",
    "    lumi='X',\n",
    "    com=14,\n",
    "    loc=0,\n",
    "    ax=ax,\n",
    "    fontsize=15,\n",
    ")\n",
    "\n",
    "ax.set_ylabel(r'a.u.')\n",
    "ax.set_xlabel(r'$p_{T}\\ (GeV)$')\n",
    "\n",
    "plt.legend()"
   ]
  },
  {
   "cell_type": "code",
   "execution_count": null,
   "id": "40aa41b5",
   "metadata": {},
   "outputs": [],
   "source": []
  }
 ],
 "metadata": {
  "kernelspec": {
   "display_name": "timing",
   "language": "python",
   "name": "timing"
  },
  "language_info": {
   "codemirror_mode": {
    "name": "ipython",
    "version": 3
   },
   "file_extension": ".py",
   "mimetype": "text/x-python",
   "name": "python",
   "nbconvert_exporter": "python",
   "pygments_lexer": "ipython3",
   "version": "3.9.7"
  }
 },
 "nbformat": 4,
 "nbformat_minor": 5
}
